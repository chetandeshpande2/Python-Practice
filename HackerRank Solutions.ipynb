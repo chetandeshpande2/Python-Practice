{
 "cells": [
  {
   "cell_type": "code",
   "execution_count": 1,
   "id": "ebb01691",
   "metadata": {},
   "outputs": [
    {
     "name": "stdout",
     "output_type": "stream",
     "text": [
      "hello world\n"
     ]
    }
   ],
   "source": [
    "print('hello world')"
   ]
  },
  {
   "cell_type": "code",
   "execution_count": 2,
   "id": "59f94fa6",
   "metadata": {},
   "outputs": [
    {
     "name": "stdout",
     "output_type": "stream",
     "text": [
      "second tests\n"
     ]
    }
   ],
   "source": [
    "print('second tests')"
   ]
  },
  {
   "cell_type": "markdown",
   "id": "b7426cbb",
   "metadata": {},
   "source": [
    "# Task\n",
    "# Given a year, determine whether it is a leap year. If it is a leap year, return the Boolean True, otherwise return False.\n",
    "# Note that the code stub provided reads from STDIN and passes arguments to the is_leap function. It is only necessary to complete the is_leap function."
   ]
  },
  {
   "cell_type": "code",
   "execution_count": 3,
   "id": "7f9b2473",
   "metadata": {},
   "outputs": [
    {
     "name": "stdout",
     "output_type": "stream",
     "text": [
      "2023\n",
      "False\n"
     ]
    }
   ],
   "source": [
    "def is_leap(year):\n",
    "    leap = False\n",
    "    if (year % 400 == 0):\n",
    "        leap = True\n",
    "    elif (year % 100 == 0):\n",
    "        leap = False\n",
    "    elif (year % 4 == 0):\n",
    "        leap = True\n",
    "    else:\n",
    "        leap = False\n",
    "    return leap\n",
    "\n",
    "year = int(input())\n",
    "print(is_leap(year))"
   ]
  },
  {
   "cell_type": "markdown",
   "id": "d366932a",
   "metadata": {},
   "source": [
    "# Print the list of integers from  through  as a string, without spaces."
   ]
  },
  {
   "cell_type": "code",
   "execution_count": 6,
   "id": "e6ecb942",
   "metadata": {},
   "outputs": [
    {
     "name": "stdout",
     "output_type": "stream",
     "text": [
      "4\n",
      "1234"
     ]
    }
   ],
   "source": [
    "n = int(input())\n",
    "for i in range (1,n+1):\n",
    "    print(i,end=\"\")"
   ]
  },
  {
   "cell_type": "code",
   "execution_count": null,
   "id": "1e13274a",
   "metadata": {},
   "outputs": [],
   "source": []
  }
 ],
 "metadata": {
  "kernelspec": {
   "display_name": "Python 3 (ipykernel)",
   "language": "python",
   "name": "python3"
  },
  "language_info": {
   "codemirror_mode": {
    "name": "ipython",
    "version": 3
   },
   "file_extension": ".py",
   "mimetype": "text/x-python",
   "name": "python",
   "nbconvert_exporter": "python",
   "pygments_lexer": "ipython3",
   "version": "3.9.13"
  }
 },
 "nbformat": 4,
 "nbformat_minor": 5
}
