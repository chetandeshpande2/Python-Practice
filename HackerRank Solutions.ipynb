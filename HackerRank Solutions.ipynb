{
 "cells": [
  {
   "cell_type": "code",
   "execution_count": 1,
   "id": "ebb01691",
   "metadata": {},
   "outputs": [
    {
     "name": "stdout",
     "output_type": "stream",
     "text": [
      "hello world\n"
     ]
    }
   ],
   "source": [
    "print('hello world')"
   ]
  },
  {
   "cell_type": "code",
   "execution_count": 2,
   "id": "59f94fa6",
   "metadata": {},
   "outputs": [
    {
     "name": "stdout",
     "output_type": "stream",
     "text": [
      "second tests\n"
     ]
    }
   ],
   "source": [
    "print('second tests')"
   ]
  },
  {
   "cell_type": "markdown",
   "id": "b95d36d6",
   "metadata": {},
   "source": [
    "# Task\n",
    "# Given a year, determine whether it is a leap year. If it is a leap year, return the Boolean True, otherwise return False.\n",
    "# Note that the code stub provided reads from STDIN and passes arguments to the is_leap function. It is only necessary to complete the is_leap function."
   ]
  },
  {
   "cell_type": "code",
   "execution_count": null,
   "id": "bbbe12e3",
   "metadata": {},
   "outputs": [],
   "source": [
    "def is_leap(year):\n",
    "    leap = False\n",
    "    if (year % 400 == 0):\n",
    "        leap = True\n",
    "    elif (year % 100 == 0):\n",
    "        leap = False\n",
    "    elif (year % 4 == 0):\n",
    "        leap = True\n",
    "    else:\n",
    "        leap = False\n",
    "    return leap\n",
    "\n",
    "year = int(input())\n",
    "print(is_leap(year))"
   ]
  },
  {
   "cell_type": "markdown",
   "id": "be419e54",
   "metadata": {},
   "source": [
    "# Print the list of integers from  through  as a string, without spaces."
   ]
  },
  {
   "cell_type": "code",
   "execution_count": null,
   "id": "c4b54e79",
   "metadata": {},
   "outputs": [],
   "source": [
    "n = int(input())\n",
    "for i in range (1,n+1):\n",
    "    print(i,end=\"\")"
   ]
  },
  {
   "cell_type": "markdown",
   "id": "3996e3b5",
   "metadata": {},
   "source": [
    "# Let's learn about list comprehensions! You are given three integers  and representing the dimensions of a cuboid along with an integer . Print a list of all possible coordinates given by  on a 3D grid where the sum of  is not equal to . Here, . Please use list comprehensions rather than multiple loops, as a learning exercise."
   ]
  },
  {
   "cell_type": "code",
   "execution_count": null,
   "id": "a4d4aae4",
   "metadata": {},
   "outputs": [],
   "source": [
    "    x = int(input())\n",
    "    y = int(input())\n",
    "    z = int(input())\n",
    "    n = int(input())\n",
    "    \n",
    "    l= list()\n",
    "    for i in range(x+1):\n",
    "        for j in range(y+1):\n",
    "            for k in range(z+1):\n",
    "                if (i+j+k!=n):\n",
    "                    l.append(i,j,k)\n",
    "    print(l)            "
   ]
  },
  {
   "cell_type": "code",
   "execution_count": null,
   "id": "8926204c",
   "metadata": {},
   "outputs": [],
   "source": [
    "x = (\"hello\")\n",
    "y = (\" world\")\n",
    "z = (\"!\")\n",
    "\n",
    "print(x+y+z)"
   ]
  },
  {
   "cell_type": "code",
   "execution_count": null,
   "id": "cd44f2d1",
   "metadata": {},
   "outputs": [],
   "source": [
    "for i in range(0,11,2):\n",
    "    print(i)"
   ]
  },
  {
   "cell_type": "markdown",
   "id": "16d7d044",
   "metadata": {},
   "source": [
    "# Given the participants' score sheet for your University Sports Day, you are required to find the runner-up score. You are given  scores. Store them in a list and find the score of the runner-up."
   ]
  },
  {
   "cell_type": "code",
   "execution_count": null,
   "id": "c4901196",
   "metadata": {},
   "outputs": [],
   "source": [
    "n = int(input())\n",
    "arr = map(int, input().split())  \n",
    "arr2 = list(set(arr))\n",
    "arr2.sort()\n",
    "print(arr2[-2]) "
   ]
  },
  {
   "cell_type": "code",
   "execution_count": null,
   "id": "2f4b6f47",
   "metadata": {},
   "outputs": [],
   "source": [
    "import seaborn as sns"
   ]
  },
  {
   "cell_type": "code",
   "execution_count": null,
   "id": "73ba61f1",
   "metadata": {},
   "outputs": [],
   "source": [
    "a = [0,1,2,3,4,5,6,7,8,9]\n",
    "b = [4,5,7,2,5,7,3,6,8,9]"
   ]
  },
  {
   "cell_type": "code",
   "execution_count": null,
   "id": "b2761e88",
   "metadata": {},
   "outputs": [],
   "source": [
    "sns.scatterplot(x=a, y=b)"
   ]
  },
  {
   "cell_type": "code",
   "execution_count": null,
   "id": "4f65b641",
   "metadata": {},
   "outputs": [],
   "source": [
    "sns.countplot(x=b)"
   ]
  },
  {
   "cell_type": "markdown",
   "id": "0a0adc23",
   "metadata": {},
   "source": [
    "# Given the names and grades for each student in a class of  students, store them in a nested list and print the name(s) of any student(s) having the second lowest grade. Note: If there are multiple students with the second lowest grade, order their names alphabetically and print each name on a new line.\n"
   ]
  },
  {
   "cell_type": "code",
   "execution_count": null,
   "id": "61fe17a2",
   "metadata": {},
   "outputs": [],
   "source": [
    "List=[]\n",
    "s=[]\n",
    "for _ in range(int(input())):\n",
    "    name = input()\n",
    "    score = float(input())\n",
    "    List.append([name,score])\n",
    "    s.append(score)\n",
    "a = min(s)\n",
    "while(a in s):\n",
    "    s.remove(a)\n",
    "    \n",
    "b = min(s)\n",
    "List.sort()\n",
    "for i in range(len(List)):\n",
    "    if(List[i][1] == b):\n",
    "        print(List[i][0])\n",
    "    "
   ]
  },
  {
   "cell_type": "code",
   "execution_count": null,
   "id": "56f55d76",
   "metadata": {},
   "outputs": [],
   "source": [
    "a = 2\n",
    "b = 3"
   ]
  },
  {
   "cell_type": "code",
   "execution_count": null,
   "id": "67b0b7b9",
   "metadata": {},
   "outputs": [],
   "source": [
    "c = a+b"
   ]
  },
  {
   "cell_type": "code",
   "execution_count": null,
   "id": "35f2797f",
   "metadata": {},
   "outputs": [],
   "source": [
    "c"
   ]
  },
  {
   "cell_type": "code",
   "execution_count": null,
   "id": "64c42438",
   "metadata": {},
   "outputs": [],
   "source": [
    "d = a-b"
   ]
  },
  {
   "cell_type": "code",
   "execution_count": null,
   "id": "d6e26eeb",
   "metadata": {},
   "outputs": [],
   "source": [
    "d"
   ]
  },
  {
   "cell_type": "code",
   "execution_count": null,
   "id": "ce012b3a",
   "metadata": {},
   "outputs": [],
   "source": [
    "a = [2,3,4,5,6]"
   ]
  },
  {
   "cell_type": "code",
   "execution_count": null,
   "id": "d364314a",
   "metadata": {},
   "outputs": [],
   "source": [
    "a.pop(2)"
   ]
  },
  {
   "cell_type": "code",
   "execution_count": null,
   "id": "b52533dd",
   "metadata": {},
   "outputs": [],
   "source": [
    "a"
   ]
  },
  {
   "cell_type": "code",
   "execution_count": null,
   "id": "f435908f",
   "metadata": {},
   "outputs": [],
   "source": [
    "a.append([2,4])"
   ]
  },
  {
   "cell_type": "code",
   "execution_count": null,
   "id": "aec2f059",
   "metadata": {},
   "outputs": [],
   "source": [
    "a"
   ]
  },
  {
   "cell_type": "code",
   "execution_count": null,
   "id": "5d3d7d13",
   "metadata": {},
   "outputs": [],
   "source": [
    "print(\"Hello world\")"
   ]
  },
  {
   "cell_type": "code",
   "execution_count": null,
   "id": "d8ae1cb6",
   "metadata": {},
   "outputs": [],
   "source": [
    "print(\"Keep the streak going\")"
   ]
  },
  {
   "cell_type": "markdown",
   "id": "d6c25510",
   "metadata": {},
   "source": [
    "# The provided code stub will read in a dictionary containing key/value pairs of name:[marks] for a list of students. Print the average of the marks array for the student name provided, showing 2 places after the decimal."
   ]
  },
  {
   "cell_type": "code",
   "execution_count": null,
   "id": "37d8b0f3",
   "metadata": {},
   "outputs": [],
   "source": [
    "if __name__ == '__main__':\n",
    "    n = int(input())\n",
    "    student_marks = {}\n",
    "    for _ in range(n):\n",
    "        name, *line = input().split()\n",
    "        scores = list(map(float, line))\n",
    "        student_marks[name] = scores\n",
    "    query_name = input()\n",
    "    x=round(sum(student_marks[query_name])/len(student_marks[query_name]),2)\n",
    "    print(\"{0:.2f}\".format(x))\n"
   ]
  },
  {
   "cell_type": "markdown",
   "id": "f0e586cd",
   "metadata": {},
   "source": [
    "# Write a code to print if number is even or odd."
   ]
  },
  {
   "cell_type": "code",
   "execution_count": null,
   "id": "a2398390",
   "metadata": {},
   "outputs": [],
   "source": [
    "s = int(input())\n",
    "    if s%2==0:\n",
    "        print(\"Entered number is even\")\n",
    "    else\n",
    "        print(\"Entered number is odd\")"
   ]
  },
  {
   "cell_type": "code",
   "execution_count": null,
   "id": "7f0e0c2e",
   "metadata": {},
   "outputs": [],
   "source": [
    "# Thank you!"
   ]
  },
  {
   "cell_type": "code",
   "execution_count": null,
   "id": "52da621d",
   "metadata": {},
   "outputs": [],
   "source": []
  },
  {
   "cell_type": "code",
   "execution_count": null,
   "id": "453df9c0",
   "metadata": {},
   "outputs": [],
   "source": []
  }
 ],
 "metadata": {
  "kernelspec": {
   "display_name": "Python 3 (ipykernel)",
   "language": "python",
   "name": "python3"
  },
  "language_info": {
   "codemirror_mode": {
    "name": "ipython",
    "version": 3
   },
   "file_extension": ".py",
   "mimetype": "text/x-python",
   "name": "python",
   "nbconvert_exporter": "python",
   "pygments_lexer": "ipython3",
   "version": "3.9.13"
  }
 },
 "nbformat": 4,
 "nbformat_minor": 5
}
